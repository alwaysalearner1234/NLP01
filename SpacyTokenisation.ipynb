{
  "nbformat": 4,
  "nbformat_minor": 0,
  "metadata": {
    "colab": {
      "provenance": [],
      "authorship_tag": "ABX9TyPaWTxpt+1BFoLtv9erSCpX",
      "include_colab_link": true
    },
    "kernelspec": {
      "name": "python3",
      "display_name": "Python 3"
    },
    "language_info": {
      "name": "python"
    }
  },
  "cells": [
    {
      "cell_type": "markdown",
      "metadata": {
        "id": "view-in-github",
        "colab_type": "text"
      },
      "source": [
        "<a href=\"https://colab.research.google.com/github/alwaysalearner1234/NLP01/blob/main/SpacyTokenisation.ipynb\" target=\"_parent\"><img src=\"https://colab.research.google.com/assets/colab-badge.svg\" alt=\"Open In Colab\"/></a>"
      ]
    },
    {
      "cell_type": "code",
      "execution_count": null,
      "metadata": {
        "id": "2U62lJ4peYcS"
      },
      "outputs": [],
      "source": [
        "import spacy\n"
      ]
    },
    {
      "cell_type": "code",
      "source": [
        "nlp = spacy.blank(\"en\")\n",
        "\n",
        "doc = nlp(\"Dr. Strange loves pav bhaji of mumbai as it costs only 2$ per plate.\")\n",
        "\n",
        "for token in doc:\n",
        "    print(token)"
      ],
      "metadata": {
        "colab": {
          "base_uri": "https://localhost:8080/"
        },
        "id": "0X5nbjgzefXO",
        "outputId": "eb403cd5-0a35-49e8-e7cf-9541b8314537"
      },
      "execution_count": null,
      "outputs": [
        {
          "output_type": "stream",
          "name": "stdout",
          "text": [
            "Dr.\n",
            "Strange\n",
            "loves\n",
            "pav\n",
            "bhaji\n",
            "of\n",
            "mumbai\n",
            "as\n",
            "it\n",
            "costs\n",
            "only\n",
            "2\n",
            "$\n",
            "per\n",
            "plate\n",
            ".\n"
          ]
        }
      ]
    },
    {
      "cell_type": "markdown",
      "source": [
        "![Screenshot 2025-09-12 222517.png]()"
      ],
      "metadata": {
        "id": "0V2sI-nY2mxe"
      }
    },
    {
      "cell_type": "code",
      "source": [
        "doc[0]\n"
      ],
      "metadata": {
        "colab": {
          "base_uri": "https://localhost:8080/"
        },
        "id": "lhT7PM_be3JX",
        "outputId": "a9d32f98-8f6c-47cb-ddf4-d0d54bb18910"
      },
      "execution_count": null,
      "outputs": [
        {
          "output_type": "execute_result",
          "data": {
            "text/plain": [
              "Dr."
            ]
          },
          "metadata": {},
          "execution_count": 3
        }
      ]
    },
    {
      "cell_type": "code",
      "source": [
        "token = doc[1]\n",
        "token.text"
      ],
      "metadata": {
        "colab": {
          "base_uri": "https://localhost:8080/",
          "height": 35
        },
        "id": "UNUlgvSNfEax",
        "outputId": "609fb1d6-3817-4d33-b613-9b4c516ff064"
      },
      "execution_count": null,
      "outputs": [
        {
          "output_type": "execute_result",
          "data": {
            "text/plain": [
              "'Strange'"
            ],
            "application/vnd.google.colaboratory.intrinsic+json": {
              "type": "string"
            }
          },
          "metadata": {},
          "execution_count": 4
        }
      ]
    },
    {
      "cell_type": "code",
      "source": [
        "dir(token)\n"
      ],
      "metadata": {
        "colab": {
          "base_uri": "https://localhost:8080/"
        },
        "id": "m9WyzR45fHRw",
        "outputId": "6ecaafeb-6ac7-49d5-ecb6-091871ede43b"
      },
      "execution_count": null,
      "outputs": [
        {
          "output_type": "execute_result",
          "data": {
            "text/plain": [
              "['_',\n",
              " '__bytes__',\n",
              " '__class__',\n",
              " '__delattr__',\n",
              " '__dir__',\n",
              " '__doc__',\n",
              " '__eq__',\n",
              " '__format__',\n",
              " '__ge__',\n",
              " '__getattribute__',\n",
              " '__getstate__',\n",
              " '__gt__',\n",
              " '__hash__',\n",
              " '__init__',\n",
              " '__init_subclass__',\n",
              " '__le__',\n",
              " '__len__',\n",
              " '__lt__',\n",
              " '__ne__',\n",
              " '__new__',\n",
              " '__pyx_vtable__',\n",
              " '__reduce__',\n",
              " '__reduce_ex__',\n",
              " '__repr__',\n",
              " '__setattr__',\n",
              " '__sizeof__',\n",
              " '__str__',\n",
              " '__subclasshook__',\n",
              " '__unicode__',\n",
              " 'ancestors',\n",
              " 'check_flag',\n",
              " 'children',\n",
              " 'cluster',\n",
              " 'conjuncts',\n",
              " 'dep',\n",
              " 'dep_',\n",
              " 'doc',\n",
              " 'ent_id',\n",
              " 'ent_id_',\n",
              " 'ent_iob',\n",
              " 'ent_iob_',\n",
              " 'ent_kb_id',\n",
              " 'ent_kb_id_',\n",
              " 'ent_type',\n",
              " 'ent_type_',\n",
              " 'get_extension',\n",
              " 'has_dep',\n",
              " 'has_extension',\n",
              " 'has_head',\n",
              " 'has_morph',\n",
              " 'has_vector',\n",
              " 'head',\n",
              " 'i',\n",
              " 'idx',\n",
              " 'iob_strings',\n",
              " 'is_alpha',\n",
              " 'is_ancestor',\n",
              " 'is_ascii',\n",
              " 'is_bracket',\n",
              " 'is_currency',\n",
              " 'is_digit',\n",
              " 'is_left_punct',\n",
              " 'is_lower',\n",
              " 'is_oov',\n",
              " 'is_punct',\n",
              " 'is_quote',\n",
              " 'is_right_punct',\n",
              " 'is_sent_end',\n",
              " 'is_sent_start',\n",
              " 'is_space',\n",
              " 'is_stop',\n",
              " 'is_title',\n",
              " 'is_upper',\n",
              " 'lang',\n",
              " 'lang_',\n",
              " 'left_edge',\n",
              " 'lefts',\n",
              " 'lemma',\n",
              " 'lemma_',\n",
              " 'lex',\n",
              " 'lex_id',\n",
              " 'like_email',\n",
              " 'like_num',\n",
              " 'like_url',\n",
              " 'lower',\n",
              " 'lower_',\n",
              " 'morph',\n",
              " 'n_lefts',\n",
              " 'n_rights',\n",
              " 'nbor',\n",
              " 'norm',\n",
              " 'norm_',\n",
              " 'orth',\n",
              " 'orth_',\n",
              " 'pos',\n",
              " 'pos_',\n",
              " 'prefix',\n",
              " 'prefix_',\n",
              " 'prob',\n",
              " 'rank',\n",
              " 'remove_extension',\n",
              " 'right_edge',\n",
              " 'rights',\n",
              " 'sent',\n",
              " 'sent_start',\n",
              " 'sentiment',\n",
              " 'set_extension',\n",
              " 'set_morph',\n",
              " 'shape',\n",
              " 'shape_',\n",
              " 'similarity',\n",
              " 'subtree',\n",
              " 'suffix',\n",
              " 'suffix_',\n",
              " 'tag',\n",
              " 'tag_',\n",
              " 'tensor',\n",
              " 'text',\n",
              " 'text_with_ws',\n",
              " 'vector',\n",
              " 'vector_norm',\n",
              " 'vocab',\n",
              " 'whitespace_']"
            ]
          },
          "metadata": {},
          "execution_count": 5
        }
      ]
    },
    {
      "cell_type": "code",
      "source": [
        "type(nlp)\n"
      ],
      "metadata": {
        "colab": {
          "base_uri": "https://localhost:8080/",
          "height": 220
        },
        "id": "QL-4uXnQg0l_",
        "outputId": "408c9634-647a-4dd6-e7d4-844ea0277263"
      },
      "execution_count": null,
      "outputs": [
        {
          "output_type": "execute_result",
          "data": {
            "text/plain": [
              "spacy.lang.en.English"
            ],
            "text/html": [
              "<div style=\"max-width:800px; border: 1px solid var(--colab-border-color);\"><style>\n",
              "      pre.function-repr-contents {\n",
              "        overflow-x: auto;\n",
              "        padding: 8px 12px;\n",
              "        max-height: 500px;\n",
              "      }\n",
              "\n",
              "      pre.function-repr-contents.function-repr-contents-collapsed {\n",
              "        cursor: pointer;\n",
              "        max-height: 100px;\n",
              "      }\n",
              "    </style>\n",
              "    <pre style=\"white-space: initial; background:\n",
              "         var(--colab-secondary-surface-color); padding: 8px 12px;\n",
              "         border-bottom: 1px solid var(--colab-border-color);\"><b>spacy.lang.en.English</b><br/>def __call__(text: Union[str, Doc], *, disable: Iterable[str]=SimpleFrozenList(), component_cfg: Optional[Dict[str, Dict[str, Any]]]=None) -&gt; Doc</pre><pre class=\"function-repr-contents function-repr-contents-collapsed\" style=\"\"><a class=\"filepath\" style=\"display:none\" href=\"#\">/usr/local/lib/python3.12/dist-packages/spacy/lang/en/__init__.py</a>A text-processing pipeline. Usually you&#x27;ll load this once per process,\n",
              "and pass the instance around your application.\n",
              "\n",
              "Defaults (class): Settings, data and factory methods for creating the `nlp`\n",
              "    object and processing pipeline.\n",
              "lang (str): IETF language code, such as &#x27;en&#x27;.\n",
              "\n",
              "DOCS: https://spacy.io/api/language</pre>\n",
              "      <script>\n",
              "      if (google.colab.kernel.accessAllowed && google.colab.files && google.colab.files.view) {\n",
              "        for (const element of document.querySelectorAll('.filepath')) {\n",
              "          element.style.display = 'block'\n",
              "          element.onclick = (event) => {\n",
              "            event.preventDefault();\n",
              "            event.stopPropagation();\n",
              "            google.colab.files.view(element.textContent, 22);\n",
              "          };\n",
              "        }\n",
              "      }\n",
              "      for (const element of document.querySelectorAll('.function-repr-contents')) {\n",
              "        element.onclick = (event) => {\n",
              "          event.preventDefault();\n",
              "          event.stopPropagation();\n",
              "          element.classList.toggle('function-repr-contents-collapsed');\n",
              "        };\n",
              "      }\n",
              "      </script>\n",
              "      </div>"
            ]
          },
          "metadata": {},
          "execution_count": 6
        }
      ]
    },
    {
      "cell_type": "code",
      "source": [
        "spacy.lang.en.English\n"
      ],
      "metadata": {
        "colab": {
          "base_uri": "https://localhost:8080/",
          "height": 220
        },
        "id": "lI2HHIO_g3cb",
        "outputId": "7b35f033-7d5e-42d4-e4ea-a50cd9791d0e"
      },
      "execution_count": null,
      "outputs": [
        {
          "output_type": "execute_result",
          "data": {
            "text/plain": [
              "spacy.lang.en.English"
            ],
            "text/html": [
              "<div style=\"max-width:800px; border: 1px solid var(--colab-border-color);\"><style>\n",
              "      pre.function-repr-contents {\n",
              "        overflow-x: auto;\n",
              "        padding: 8px 12px;\n",
              "        max-height: 500px;\n",
              "      }\n",
              "\n",
              "      pre.function-repr-contents.function-repr-contents-collapsed {\n",
              "        cursor: pointer;\n",
              "        max-height: 100px;\n",
              "      }\n",
              "    </style>\n",
              "    <pre style=\"white-space: initial; background:\n",
              "         var(--colab-secondary-surface-color); padding: 8px 12px;\n",
              "         border-bottom: 1px solid var(--colab-border-color);\"><b>spacy.lang.en.English</b><br/>def __call__(text: Union[str, Doc], *, disable: Iterable[str]=SimpleFrozenList(), component_cfg: Optional[Dict[str, Dict[str, Any]]]=None) -&gt; Doc</pre><pre class=\"function-repr-contents function-repr-contents-collapsed\" style=\"\"><a class=\"filepath\" style=\"display:none\" href=\"#\">/usr/local/lib/python3.12/dist-packages/spacy/lang/en/__init__.py</a>A text-processing pipeline. Usually you&#x27;ll load this once per process,\n",
              "and pass the instance around your application.\n",
              "\n",
              "Defaults (class): Settings, data and factory methods for creating the `nlp`\n",
              "    object and processing pipeline.\n",
              "lang (str): IETF language code, such as &#x27;en&#x27;.\n",
              "\n",
              "DOCS: https://spacy.io/api/language</pre>\n",
              "      <script>\n",
              "      if (google.colab.kernel.accessAllowed && google.colab.files && google.colab.files.view) {\n",
              "        for (const element of document.querySelectorAll('.filepath')) {\n",
              "          element.style.display = 'block'\n",
              "          element.onclick = (event) => {\n",
              "            event.preventDefault();\n",
              "            event.stopPropagation();\n",
              "            google.colab.files.view(element.textContent, 22);\n",
              "          };\n",
              "        }\n",
              "      }\n",
              "      for (const element of document.querySelectorAll('.function-repr-contents')) {\n",
              "        element.onclick = (event) => {\n",
              "          event.preventDefault();\n",
              "          event.stopPropagation();\n",
              "          element.classList.toggle('function-repr-contents-collapsed');\n",
              "        };\n",
              "      }\n",
              "      </script>\n",
              "      </div>"
            ]
          },
          "metadata": {},
          "execution_count": 7
        }
      ]
    },
    {
      "cell_type": "code",
      "source": [
        "type(doc)\n"
      ],
      "metadata": {
        "colab": {
          "base_uri": "https://localhost:8080/"
        },
        "id": "VUajoNR9g9Ma",
        "outputId": "304d7d6e-daca-4fb8-a993-a9a90cedd87c"
      },
      "execution_count": null,
      "outputs": [
        {
          "output_type": "execute_result",
          "data": {
            "text/plain": [
              "spacy.tokens.doc.Doc"
            ]
          },
          "metadata": {},
          "execution_count": 8
        }
      ]
    },
    {
      "cell_type": "code",
      "source": [
        "nlp.pipe_names\n"
      ],
      "metadata": {
        "colab": {
          "base_uri": "https://localhost:8080/"
        },
        "id": "X8PQOEw5g_bM",
        "outputId": "a854eb39-efdd-48a4-88ff-5a9e681ca69b"
      },
      "execution_count": null,
      "outputs": [
        {
          "output_type": "execute_result",
          "data": {
            "text/plain": [
              "[]"
            ]
          },
          "metadata": {},
          "execution_count": 9
        }
      ]
    },
    {
      "cell_type": "markdown",
      "source": [
        "Doc = the full text\n",
        "\n",
        "Token = a single word inside the Doc\n",
        "\n",
        "Span = a slice of consecutive tokens from the Doc"
      ],
      "metadata": {
        "id": "wU-7V6vykfuc"
      }
    },
    {
      "cell_type": "code",
      "source": [
        "span = doc[0:5]\n",
        "span"
      ],
      "metadata": {
        "colab": {
          "base_uri": "https://localhost:8080/"
        },
        "id": "WT4T2hRfichZ",
        "outputId": "c03f1bed-4c14-4bc1-e8f1-98b56306c0b9"
      },
      "execution_count": null,
      "outputs": [
        {
          "output_type": "execute_result",
          "data": {
            "text/plain": [
              "Dr. Strange loves pav bhaji"
            ]
          },
          "metadata": {},
          "execution_count": 10
        }
      ]
    },
    {
      "cell_type": "code",
      "source": [
        "type(span)\n"
      ],
      "metadata": {
        "colab": {
          "base_uri": "https://localhost:8080/"
        },
        "id": "Qtkys_keqbp1",
        "outputId": "a050dae0-0e44-4fac-89a3-c4170720e4db"
      },
      "execution_count": 11,
      "outputs": [
        {
          "output_type": "execute_result",
          "data": {
            "text/plain": [
              "spacy.tokens.span.Span"
            ]
          },
          "metadata": {},
          "execution_count": 11
        }
      ]
    },
    {
      "cell_type": "markdown",
      "source": [
        "Token Attributes"
      ],
      "metadata": {
        "id": "9PHag4Ejq7fN"
      }
    },
    {
      "cell_type": "code",
      "source": [
        "doc = nlp(\"Tony gave two $ to Peter.\")\n"
      ],
      "metadata": {
        "id": "MFz0_qcoq9u3"
      },
      "execution_count": 12,
      "outputs": []
    },
    {
      "cell_type": "code",
      "source": [
        "token0 = doc[0]\n",
        "token0"
      ],
      "metadata": {
        "colab": {
          "base_uri": "https://localhost:8080/"
        },
        "id": "EZFYyGTirACe",
        "outputId": "72d7f6f0-6f79-4890-fc2a-38870ffe0c22"
      },
      "execution_count": 13,
      "outputs": [
        {
          "output_type": "execute_result",
          "data": {
            "text/plain": [
              "Tony"
            ]
          },
          "metadata": {},
          "execution_count": 13
        }
      ]
    },
    {
      "cell_type": "code",
      "source": [
        "token0.is_alpha\n"
      ],
      "metadata": {
        "colab": {
          "base_uri": "https://localhost:8080/"
        },
        "id": "9y-nRYrOrWdK",
        "outputId": "4ab0a4ae-7de7-404d-9259-481c6711091f"
      },
      "execution_count": 14,
      "outputs": [
        {
          "output_type": "execute_result",
          "data": {
            "text/plain": [
              "True"
            ]
          },
          "metadata": {},
          "execution_count": 14
        }
      ]
    },
    {
      "cell_type": "code",
      "source": [
        "token0.like_num\n"
      ],
      "metadata": {
        "colab": {
          "base_uri": "https://localhost:8080/"
        },
        "id": "zLBkdyA3spfF",
        "outputId": "f7394e4c-d5a7-44e0-9d06-64df3cb1a477"
      },
      "execution_count": 15,
      "outputs": [
        {
          "output_type": "execute_result",
          "data": {
            "text/plain": [
              "False"
            ]
          },
          "metadata": {},
          "execution_count": 15
        }
      ]
    },
    {
      "cell_type": "code",
      "source": [
        "token2 = doc[2]\n",
        "token2"
      ],
      "metadata": {
        "colab": {
          "base_uri": "https://localhost:8080/"
        },
        "id": "HlBwJnaHs_Oe",
        "outputId": "26bfacc2-653a-475d-c718-ff8a8a53c795"
      },
      "execution_count": 16,
      "outputs": [
        {
          "output_type": "execute_result",
          "data": {
            "text/plain": [
              "two"
            ]
          },
          "metadata": {},
          "execution_count": 16
        }
      ]
    },
    {
      "cell_type": "code",
      "source": [
        "token2.like_num\n"
      ],
      "metadata": {
        "colab": {
          "base_uri": "https://localhost:8080/"
        },
        "id": "F_1D9QVPtVtq",
        "outputId": "c4c6bf57-c273-4ade-a45e-207330c030b7"
      },
      "execution_count": 17,
      "outputs": [
        {
          "output_type": "execute_result",
          "data": {
            "text/plain": [
              "True"
            ]
          },
          "metadata": {},
          "execution_count": 17
        }
      ]
    },
    {
      "cell_type": "code",
      "source": [
        "token3 = doc[3]\n",
        "token3"
      ],
      "metadata": {
        "colab": {
          "base_uri": "https://localhost:8080/"
        },
        "id": "4WeizQQavzJg",
        "outputId": "2400d210-100d-43e5-e87b-517b1b38f560"
      },
      "execution_count": 18,
      "outputs": [
        {
          "output_type": "execute_result",
          "data": {
            "text/plain": [
              "$"
            ]
          },
          "metadata": {},
          "execution_count": 18
        }
      ]
    },
    {
      "cell_type": "code",
      "source": [
        "token3.like_num\n"
      ],
      "metadata": {
        "colab": {
          "base_uri": "https://localhost:8080/"
        },
        "id": "QRVY-29lv2DI",
        "outputId": "f6e09d33-504b-4412-ac7e-017b5c2798f6"
      },
      "execution_count": 19,
      "outputs": [
        {
          "output_type": "execute_result",
          "data": {
            "text/plain": [
              "False"
            ]
          },
          "metadata": {},
          "execution_count": 19
        }
      ]
    },
    {
      "cell_type": "code",
      "source": [
        "token3.is_currency\n"
      ],
      "metadata": {
        "colab": {
          "base_uri": "https://localhost:8080/"
        },
        "id": "q0ojS0e6v44W",
        "outputId": "d64c8440-c155-400e-bfdb-1abf246d9835"
      },
      "execution_count": 20,
      "outputs": [
        {
          "output_type": "execute_result",
          "data": {
            "text/plain": [
              "True"
            ]
          },
          "metadata": {},
          "execution_count": 20
        }
      ]
    },
    {
      "cell_type": "code",
      "source": [
        "for token in doc:\n",
        "    print(token, \"==>\", \"index: \", token.i, \"is_alpha:\", token.is_alpha,\n",
        "          \"is_punct:\", token.is_punct,\n",
        "          \"like_num:\", token.like_num,\n",
        "          \"is_currency:\", token.is_currency,\n",
        "         )"
      ],
      "metadata": {
        "colab": {
          "base_uri": "https://localhost:8080/"
        },
        "id": "PlQyYo1Hv8wD",
        "outputId": "2e1d5264-72a7-4a9f-ca20-dfd79fa1383a"
      },
      "execution_count": 21,
      "outputs": [
        {
          "output_type": "stream",
          "name": "stdout",
          "text": [
            "Tony ==> index:  0 is_alpha: True is_punct: False like_num: False is_currency: False\n",
            "gave ==> index:  1 is_alpha: True is_punct: False like_num: False is_currency: False\n",
            "two ==> index:  2 is_alpha: True is_punct: False like_num: True is_currency: False\n",
            "$ ==> index:  3 is_alpha: False is_punct: False like_num: False is_currency: True\n",
            "to ==> index:  4 is_alpha: True is_punct: False like_num: False is_currency: False\n",
            "Peter ==> index:  5 is_alpha: True is_punct: False like_num: False is_currency: False\n",
            ". ==> index:  6 is_alpha: False is_punct: True like_num: False is_currency: False\n"
          ]
        }
      ]
    },
    {
      "cell_type": "markdown",
      "source": [
        "Collecting email ids of students from students information sheet"
      ],
      "metadata": {
        "id": "eRipEnIDwwrb"
      }
    },
    {
      "cell_type": "code",
      "source": [
        "with open(\"students.txt\") as f:\n",
        "    text = f.readlines()\n",
        "text"
      ],
      "metadata": {
        "colab": {
          "base_uri": "https://localhost:8080/"
        },
        "id": "jNj0MtDGwx6I",
        "outputId": "2e150df1-a481-4fad-a1dd-6a5bbfc9b0b8"
      },
      "execution_count": 23,
      "outputs": [
        {
          "output_type": "execute_result",
          "data": {
            "text/plain": [
              "['[\\n',\n",
              " '  {\"name\": \"Alice Johnson\", \"dob\": \"2005-01-12\", \"email\": \"alice.johnson@example.com\"},\\n',\n",
              " '  {\"name\": \"Bob Smith\", \"dob\": \"2004-03-22\", \"email\": \"bob.smith@example.com\"},\\n',\n",
              " '  {\"name\": \"Charlie Brown\", \"dob\": \"2005-07-18\", \"email\": \"charlie.brown@example.com\"},\\n',\n",
              " '  {\"name\": \"Diana Prince\", \"dob\": \"2004-11-05\", \"email\": \"diana.prince@example.com\"},\\n',\n",
              " '  {\"name\": \"Ethan Hunt\", \"dob\": \"2005-05-14\", \"email\": \"ethan.hunt@example.com\"},\\n',\n",
              " '  {\"name\": \"Fiona Gallagher\", \"dob\": \"2004-09-23\", \"email\": \"fiona.gallagher@example.com\"},\\n',\n",
              " '  {\"name\": \"George Martin\", \"dob\": \"2005-02-28\", \"email\": \"george.martin@example.com\"},\\n',\n",
              " '  {\"name\": \"Hannah Baker\", \"dob\": \"2004-12-12\", \"email\": \"hannah.baker@example.com\"},\\n',\n",
              " '  {\"name\": \"Ian Wright\", \"dob\": \"2005-06-06\", \"email\": \"ian.wright@example.com\"},\\n',\n",
              " '  {\"name\": \"Julia Roberts\", \"dob\": \"2004-08-19\", \"email\": \"julia.roberts@example.com\"},\\n',\n",
              " '  {\"name\": \"Kevin Durant\", \"dob\": \"2005-03-03\", \"email\": \"kevin.durant@example.com\"},\\n',\n",
              " '  {\"name\": \"Laura Palmer\", \"dob\": \"2004-10-29\", \"email\": \"laura.palmer@example.com\"},\\n',\n",
              " '  {\"name\": \"Michael Scott\", \"dob\": \"2005-07-01\", \"email\": \"michael.scott@example.com\"},\\n',\n",
              " '  {\"name\": \"Nina Dobrev\", \"dob\": \"2004-04-15\", \"email\": \"nina.dobrev@example.com\"},\\n',\n",
              " '  {\"name\": \"Oscar Wilde\", \"dob\": \"2005-09-09\", \"email\": \"oscar.wilde@example.com\"},\\n',\n",
              " '  {\"name\": \"Pam Beesly\", \"dob\": \"2004-06-22\", \"email\": \"pam.beesly@example.com\"},\\n',\n",
              " '  {\"name\": \"Quentin Tarantino\", \"dob\": \"2005-11-30\", \"email\": \"quentin.tarantino@example.com\"},\\n',\n",
              " '  {\"name\": \"Rachel Green\", \"dob\": \"2004-05-18\", \"email\": \"rachel.green@example.com\"},\\n',\n",
              " '  {\"name\": \"Steve Rogers\", \"dob\": \"2005-01-25\", \"email\": \"steve.rogers@example.com\"},\\n',\n",
              " '  {\"name\": \"Tina Fey\", \"dob\": \"2004-07-07\", \"email\": \"tina.fey@example.com\"},\\n',\n",
              " '  {\"name\": \"Uma Thurman\", \"dob\": \"2005-02-14\", \"email\": \"uma.thurman@example.com\"},\\n',\n",
              " '  {\"name\": \"Victor Hugo\", \"dob\": \"2004-09-11\", \"email\": \"victor.hugo@example.com\"},\\n',\n",
              " '  {\"name\": \"Wendy Darling\", \"dob\": \"2005-12-02\", \"email\": \"wendy.darling@example.com\"},\\n',\n",
              " '  {\"name\": \"Xander Cage\", \"dob\": \"2004-03-17\", \"email\": \"xander.cage@example.com\"},\\n',\n",
              " '  {\"name\": \"Yvonne Strahovski\", \"dob\": \"2005-08-21\", \"email\": \"yvonne.strahovski@example.com\"},\\n',\n",
              " '  {\"name\": \"Zachary Levi\", \"dob\": \"2004-11-14\", \"email\": \"zachary.levi@example.com\"},\\n',\n",
              " '  {\"name\": \"Amber Heard\", \"dob\": \"2005-06-12\", \"email\": \"amber.heard@example.com\"},\\n',\n",
              " '  {\"name\": \"Brian Cox\", \"dob\": \"2004-01-19\", \"email\": \"brian.cox@example.com\"},\\n',\n",
              " '  {\"name\": \"Catherine Zeta\", \"dob\": \"2005-04-08\", \"email\": \"catherine.zeta@example.com\"},\\n',\n",
              " '  {\"name\": \"David Tennant\", \"dob\": \"2004-08-04\", \"email\": \"david.tennant@example.com\"},\\n',\n",
              " '  {\"name\": \"Ella Fitzgerald\", \"dob\": \"2005-10-10\", \"email\": \"ella.fitzgerald@example.com\"},\\n',\n",
              " '  {\"name\": \"Frank Ocean\", \"dob\": \"2004-12-27\", \"email\": \"frank.ocean@example.com\"},\\n',\n",
              " '  {\"name\": \"Grace Kelly\", \"dob\": \"2005-05-05\", \"email\": \"grace.kelly@example.com\"},\\n',\n",
              " '  {\"name\": \"Henry Cavill\", \"dob\": \"2004-07-30\", \"email\": \"henry.cavill@example.com\"},\\n',\n",
              " '  {\"name\": \"Isla Fisher\", \"dob\": \"2005-03-12\", \"email\": \"isla.fisher@example.com\"},\\n',\n",
              " '  {\"name\": \"Jack Sparrow\", \"dob\": \"2004-09-01\", \"email\": \"jack.sparrow@example.com\"},\\n',\n",
              " '  {\"name\": \"Kylie Jenner\", \"dob\": \"2005-11-19\", \"email\": \"kylie.jenner@example.com\"},\\n',\n",
              " '  {\"name\": \"Liam Neeson\", \"dob\": \"2004-02-23\", \"email\": \"liam.neeson@example.com\"},\\n',\n",
              " '  {\"name\": \"Mila Kunis\", \"dob\": \"2005-06-18\", \"email\": \"mila.kunis@example.com\"},\\n',\n",
              " '  {\"name\": \"Noah Centineo\", \"dob\": \"2004-04-30\", \"email\": \"noah.centineo@example.com\"},\\n',\n",
              " '  {\"name\": \"Olivia Wilde\", \"dob\": \"2005-08-15\", \"email\": \"olivia.wilde@example.com\"},\\n',\n",
              " '  {\"name\": \"Peter Parker\", \"dob\": \"2004-10-08\", \"email\": \"peter.parker@example.com\"},\\n',\n",
              " '  {\"name\": \"Queen Latifah\", \"dob\": \"2005-01-03\", \"email\": \"queen.latifah@example.com\"},\\n',\n",
              " '  {\"name\": \"Ryan Reynolds\", \"dob\": \"2004-05-27\", \"email\": \"ryan.reynolds@example.com\"},\\n',\n",
              " '  {\"name\": \"Scarlett Johansson\", \"dob\": \"2005-07-22\", \"email\": \"scarlett.johansson@example.com\"},\\n',\n",
              " '  {\"name\": \"Tom Holland\", \"dob\": \"2004-03-09\", \"email\": \"tom.holland@example.com\"},\\n',\n",
              " '  {\"name\": \"Ulysses Grant\", \"dob\": \"2005-12-20\", \"email\": \"ulysses.grant@example.com\"},\\n',\n",
              " '  {\"name\": \"Vanessa Hudgens\", \"dob\": \"2004-06-13\", \"email\": \"vanessa.hudgens@example.com\"},\\n',\n",
              " '  {\"name\": \"Will Smith\", \"dob\": \"2005-09-04\", \"email\": \"will.smith@example.com\"},\\n',\n",
              " '  {\"name\": \"Xenia Tchoumitcheva\", \"dob\": \"2004-11-21\", \"email\": \"xenia.tchoumitcheva@example.com\"},\\n',\n",
              " '  {\"name\": \"Yara Shahidi\", \"dob\": \"2005-02-09\", \"email\": \"yara.shahidi@example.com\"},\\n',\n",
              " '  {\"name\": \"Zoe Saldana\", \"dob\": \"2004-08-28\", \"email\": \"zoe.saldana@example.com\"}\\n',\n",
              " ']\\n']"
            ]
          },
          "metadata": {},
          "execution_count": 23
        }
      ]
    },
    {
      "cell_type": "code",
      "source": [
        "text = \" \".join(text)\n",
        "text\n"
      ],
      "metadata": {
        "colab": {
          "base_uri": "https://localhost:8080/",
          "height": 269
        },
        "id": "7AIQWiGZws99",
        "outputId": "6ba67645-463f-469c-85a4-133fd5ed0f84"
      },
      "execution_count": 24,
      "outputs": [
        {
          "output_type": "execute_result",
          "data": {
            "text/plain": [
              "'[\\n   {\"name\": \"Alice Johnson\", \"dob\": \"2005-01-12\", \"email\": \"alice.johnson@example.com\"},\\n   {\"name\": \"Bob Smith\", \"dob\": \"2004-03-22\", \"email\": \"bob.smith@example.com\"},\\n   {\"name\": \"Charlie Brown\", \"dob\": \"2005-07-18\", \"email\": \"charlie.brown@example.com\"},\\n   {\"name\": \"Diana Prince\", \"dob\": \"2004-11-05\", \"email\": \"diana.prince@example.com\"},\\n   {\"name\": \"Ethan Hunt\", \"dob\": \"2005-05-14\", \"email\": \"ethan.hunt@example.com\"},\\n   {\"name\": \"Fiona Gallagher\", \"dob\": \"2004-09-23\", \"email\": \"fiona.gallagher@example.com\"},\\n   {\"name\": \"George Martin\", \"dob\": \"2005-02-28\", \"email\": \"george.martin@example.com\"},\\n   {\"name\": \"Hannah Baker\", \"dob\": \"2004-12-12\", \"email\": \"hannah.baker@example.com\"},\\n   {\"name\": \"Ian Wright\", \"dob\": \"2005-06-06\", \"email\": \"ian.wright@example.com\"},\\n   {\"name\": \"Julia Roberts\", \"dob\": \"2004-08-19\", \"email\": \"julia.roberts@example.com\"},\\n   {\"name\": \"Kevin Durant\", \"dob\": \"2005-03-03\", \"email\": \"kevin.durant@example.com\"},\\n   {\"name\": \"Laura Palmer\", \"dob\": \"2004-10-29\", \"email\": \"laura.palmer@example.com\"},\\n   {\"name\": \"Michael Scott\", \"dob\": \"2005-07-01\", \"email\": \"michael.scott@example.com\"},\\n   {\"name\": \"Nina Dobrev\", \"dob\": \"2004-04-15\", \"email\": \"nina.dobrev@example.com\"},\\n   {\"name\": \"Oscar Wilde\", \"dob\": \"2005-09-09\", \"email\": \"oscar.wilde@example.com\"},\\n   {\"name\": \"Pam Beesly\", \"dob\": \"2004-06-22\", \"email\": \"pam.beesly@example.com\"},\\n   {\"name\": \"Quentin Tarantino\", \"dob\": \"2005-11-30\", \"email\": \"quentin.tarantino@example.com\"},\\n   {\"name\": \"Rachel Green\", \"dob\": \"2004-05-18\", \"email\": \"rachel.green@example.com\"},\\n   {\"name\": \"Steve Rogers\", \"dob\": \"2005-01-25\", \"email\": \"steve.rogers@example.com\"},\\n   {\"name\": \"Tina Fey\", \"dob\": \"2004-07-07\", \"email\": \"tina.fey@example.com\"},\\n   {\"name\": \"Uma Thurman\", \"dob\": \"2005-02-14\", \"email\": \"uma.thurman@example.com\"},\\n   {\"name\": \"Victor Hugo\", \"dob\": \"2004-09-11\", \"email\": \"victor.hugo@example.com\"},\\n   {\"name\": \"Wendy Darling\", \"dob\": \"2005-12-02\", \"email\": \"wendy.darling@example.com\"},\\n   {\"name\": \"Xander Cage\", \"dob\": \"2004-03-17\", \"email\": \"xander.cage@example.com\"},\\n   {\"name\": \"Yvonne Strahovski\", \"dob\": \"2005-08-21\", \"email\": \"yvonne.strahovski@example.com\"},\\n   {\"name\": \"Zachary Levi\", \"dob\": \"2004-11-14\", \"email\": \"zachary.levi@example.com\"},\\n   {\"name\": \"Amber Heard\", \"dob\": \"2005-06-12\", \"email\": \"amber.heard@example.com\"},\\n   {\"name\": \"Brian Cox\", \"dob\": \"2004-01-19\", \"email\": \"brian.cox@example.com\"},\\n   {\"name\": \"Catherine Zeta\", \"dob\": \"2005-04-08\", \"email\": \"catherine.zeta@example.com\"},\\n   {\"name\": \"David Tennant\", \"dob\": \"2004-08-04\", \"email\": \"david.tennant@example.com\"},\\n   {\"name\": \"Ella Fitzgerald\", \"dob\": \"2005-10-10\", \"email\": \"ella.fitzgerald@example.com\"},\\n   {\"name\": \"Frank Ocean\", \"dob\": \"2004-12-27\", \"email\": \"frank.ocean@example.com\"},\\n   {\"name\": \"Grace Kelly\", \"dob\": \"2005-05-05\", \"email\": \"grace.kelly@example.com\"},\\n   {\"name\": \"Henry Cavill\", \"dob\": \"2004-07-30\", \"email\": \"henry.cavill@example.com\"},\\n   {\"name\": \"Isla Fisher\", \"dob\": \"2005-03-12\", \"email\": \"isla.fisher@example.com\"},\\n   {\"name\": \"Jack Sparrow\", \"dob\": \"2004-09-01\", \"email\": \"jack.sparrow@example.com\"},\\n   {\"name\": \"Kylie Jenner\", \"dob\": \"2005-11-19\", \"email\": \"kylie.jenner@example.com\"},\\n   {\"name\": \"Liam Neeson\", \"dob\": \"2004-02-23\", \"email\": \"liam.neeson@example.com\"},\\n   {\"name\": \"Mila Kunis\", \"dob\": \"2005-06-18\", \"email\": \"mila.kunis@example.com\"},\\n   {\"name\": \"Noah Centineo\", \"dob\": \"2004-04-30\", \"email\": \"noah.centineo@example.com\"},\\n   {\"name\": \"Olivia Wilde\", \"dob\": \"2005-08-15\", \"email\": \"olivia.wilde@example.com\"},\\n   {\"name\": \"Peter Parker\", \"dob\": \"2004-10-08\", \"email\": \"peter.parker@example.com\"},\\n   {\"name\": \"Queen Latifah\", \"dob\": \"2005-01-03\", \"email\": \"queen.latifah@example.com\"},\\n   {\"name\": \"Ryan Reynolds\", \"dob\": \"2004-05-27\", \"email\": \"ryan.reynolds@example.com\"},\\n   {\"name\": \"Scarlett Johansson\", \"dob\": \"2005-07-22\", \"email\": \"scarlett.johansson@example.com\"},\\n   {\"name\": \"Tom Holland\", \"dob\": \"2004-03-09\", \"email\": \"tom.holland@example.com\"},\\n   {\"name\": \"Ulysses Grant\", \"dob\": \"2005-12-20\", \"email\": \"ulysses.grant@example.com\"},\\n   {\"name\": \"Vanessa Hudgens\", \"dob\": \"2004-06-13\", \"email\": \"vanessa.hudgens@example.com\"},\\n   {\"name\": \"Will Smith\", \"dob\": \"2005-09-04\", \"email\": \"will.smith@example.com\"},\\n   {\"name\": \"Xenia Tchoumitcheva\", \"dob\": \"2004-11-21\", \"email\": \"xenia.tchoumitcheva@example.com\"},\\n   {\"name\": \"Yara Shahidi\", \"dob\": \"2005-02-09\", \"email\": \"yara.shahidi@example.com\"},\\n   {\"name\": \"Zoe Saldana\", \"dob\": \"2004-08-28\", \"email\": \"zoe.saldana@example.com\"}\\n ]\\n'"
            ],
            "application/vnd.google.colaboratory.intrinsic+json": {
              "type": "string"
            }
          },
          "metadata": {},
          "execution_count": 24
        }
      ]
    },
    {
      "cell_type": "code",
      "source": [
        "doc = nlp(text)\n",
        "emails = []\n",
        "for token in doc:\n",
        "    if token.like_email:\n",
        "        emails.append(token.text)\n",
        "emails"
      ],
      "metadata": {
        "colab": {
          "base_uri": "https://localhost:8080/"
        },
        "id": "1_PvwdoCybm5",
        "outputId": "92fea5d7-4ebf-4db7-f6b0-386c9565a8b3"
      },
      "execution_count": 25,
      "outputs": [
        {
          "output_type": "execute_result",
          "data": {
            "text/plain": [
              "['alice.johnson@example.com',\n",
              " 'bob.smith@example.com',\n",
              " 'charlie.brown@example.com',\n",
              " 'diana.prince@example.com',\n",
              " 'ethan.hunt@example.com',\n",
              " 'fiona.gallagher@example.com',\n",
              " 'george.martin@example.com',\n",
              " 'hannah.baker@example.com',\n",
              " 'ian.wright@example.com',\n",
              " 'julia.roberts@example.com',\n",
              " 'kevin.durant@example.com',\n",
              " 'laura.palmer@example.com',\n",
              " 'michael.scott@example.com',\n",
              " 'nina.dobrev@example.com',\n",
              " 'oscar.wilde@example.com',\n",
              " 'pam.beesly@example.com',\n",
              " 'quentin.tarantino@example.com',\n",
              " 'rachel.green@example.com',\n",
              " 'steve.rogers@example.com',\n",
              " 'tina.fey@example.com',\n",
              " 'uma.thurman@example.com',\n",
              " 'victor.hugo@example.com',\n",
              " 'wendy.darling@example.com',\n",
              " 'xander.cage@example.com',\n",
              " 'yvonne.strahovski@example.com',\n",
              " 'zachary.levi@example.com',\n",
              " 'amber.heard@example.com',\n",
              " 'brian.cox@example.com',\n",
              " 'catherine.zeta@example.com',\n",
              " 'david.tennant@example.com',\n",
              " 'ella.fitzgerald@example.com',\n",
              " 'frank.ocean@example.com',\n",
              " 'grace.kelly@example.com',\n",
              " 'henry.cavill@example.com',\n",
              " 'isla.fisher@example.com',\n",
              " 'jack.sparrow@example.com',\n",
              " 'kylie.jenner@example.com',\n",
              " 'liam.neeson@example.com',\n",
              " 'mila.kunis@example.com',\n",
              " 'noah.centineo@example.com',\n",
              " 'olivia.wilde@example.com',\n",
              " 'peter.parker@example.com',\n",
              " 'queen.latifah@example.com',\n",
              " 'ryan.reynolds@example.com',\n",
              " 'scarlett.johansson@example.com',\n",
              " 'tom.holland@example.com',\n",
              " 'ulysses.grant@example.com',\n",
              " 'vanessa.hudgens@example.com',\n",
              " 'will.smith@example.com',\n",
              " 'xenia.tchoumitcheva@example.com',\n",
              " 'yara.shahidi@example.com',\n",
              " 'zoe.saldana@example.com']"
            ]
          },
          "metadata": {},
          "execution_count": 25
        }
      ]
    },
    {
      "cell_type": "code",
      "source": [
        "nlp = spacy.blank(\"hi\")\n",
        "doc = nlp(\"भैया जी! 5000 ₹ उधार थे वो वापस देदो\")\n",
        "for token in doc:\n",
        "    print(token, token.is_currency)"
      ],
      "metadata": {
        "colab": {
          "base_uri": "https://localhost:8080/"
        },
        "id": "PCaDGR-4yhKr",
        "outputId": "24839c40-785f-4b88-b524-2b621da6a689"
      },
      "execution_count": 26,
      "outputs": [
        {
          "output_type": "stream",
          "name": "stdout",
          "text": [
            "भैया False\n",
            "जी False\n",
            "! False\n",
            "5000 False\n",
            "₹ True\n",
            "उधार False\n",
            "थे False\n",
            "वो False\n",
            "वापस False\n",
            "देदो False\n"
          ]
        }
      ]
    },
    {
      "cell_type": "code",
      "source": [],
      "metadata": {
        "id": "shkUjOwazT1a"
      },
      "execution_count": null,
      "outputs": []
    },
    {
      "cell_type": "markdown",
      "source": [
        "Customizing tokenizer\n"
      ],
      "metadata": {
        "id": "Xz-eHN7EzWfZ"
      }
    },
    {
      "cell_type": "code",
      "source": [
        "from spacy.symbols import ORTH\n",
        "\n",
        "nlp = spacy.blank(\"en\")\n",
        "doc = nlp(\"gimme double cheese extra large healthy pizza\")\n",
        "tokens = [token.text for token in doc]\n",
        "tokens"
      ],
      "metadata": {
        "colab": {
          "base_uri": "https://localhost:8080/"
        },
        "id": "brgbFDDpzXW4",
        "outputId": "6b2cd2dd-236e-4c02-bb14-74ed87524982"
      },
      "execution_count": 27,
      "outputs": [
        {
          "output_type": "execute_result",
          "data": {
            "text/plain": [
              "['gimme', 'double', 'cheese', 'extra', 'large', 'healthy', 'pizza']"
            ]
          },
          "metadata": {},
          "execution_count": 27
        }
      ]
    },
    {
      "cell_type": "code",
      "source": [
        "nlp.tokenizer.add_special_case(\"gimme\", [\n",
        "    {ORTH: \"gim\"},\n",
        "    {ORTH: \"me\"},\n",
        "])\n",
        "doc = nlp(\"gimme double cheese extra large healthy pizza\")\n",
        "tokens = [token.text for token in doc]\n",
        "tokens"
      ],
      "metadata": {
        "colab": {
          "base_uri": "https://localhost:8080/"
        },
        "id": "GAd22k3az71c",
        "outputId": "a8892b24-299c-4e63-83d7-f958292f1b8f"
      },
      "execution_count": 28,
      "outputs": [
        {
          "output_type": "execute_result",
          "data": {
            "text/plain": [
              "['gim', 'me', 'double', 'cheese', 'extra', 'large', 'healthy', 'pizza']"
            ]
          },
          "metadata": {},
          "execution_count": 28
        }
      ]
    },
    {
      "cell_type": "markdown",
      "source": [
        "Sentence Tokenization or Segmentation\n"
      ],
      "metadata": {
        "id": "RulXg5zB1EWa"
      }
    },
    {
      "cell_type": "code",
      "source": [
        "doc = nlp(\"Dr. Strange loves pav bhaji of mumbai. Hulk loves chat of delhi\")\n",
        "for sentence in doc.sents:\n",
        "    print(sentence)\n"
      ],
      "metadata": {
        "colab": {
          "base_uri": "https://localhost:8080/",
          "height": 289
        },
        "id": "bw9EDUTn1Aip",
        "outputId": "5ec0275a-62ac-4e98-e917-2a1b9845f0c4"
      },
      "execution_count": 29,
      "outputs": [
        {
          "output_type": "error",
          "ename": "ValueError",
          "evalue": "[E030] Sentence boundaries unset. You can add the 'sentencizer' component to the pipeline with: `nlp.add_pipe('sentencizer')`. Alternatively, add the dependency parser or sentence recognizer, or set sentence boundaries by setting `doc[i].is_sent_start`.",
          "traceback": [
            "\u001b[0;31m---------------------------------------------------------------------------\u001b[0m",
            "\u001b[0;31mValueError\u001b[0m                                Traceback (most recent call last)",
            "\u001b[0;32m/tmp/ipython-input-1824574016.py\u001b[0m in \u001b[0;36m<cell line: 0>\u001b[0;34m()\u001b[0m\n\u001b[1;32m      1\u001b[0m \u001b[0mdoc\u001b[0m \u001b[0;34m=\u001b[0m \u001b[0mnlp\u001b[0m\u001b[0;34m(\u001b[0m\u001b[0;34m\"Dr. Strange loves pav bhaji of mumbai. Hulk loves chat of delhi\"\u001b[0m\u001b[0;34m)\u001b[0m\u001b[0;34m\u001b[0m\u001b[0;34m\u001b[0m\u001b[0m\n\u001b[0;32m----> 2\u001b[0;31m \u001b[0;32mfor\u001b[0m \u001b[0msentence\u001b[0m \u001b[0;32min\u001b[0m \u001b[0mdoc\u001b[0m\u001b[0;34m.\u001b[0m\u001b[0msents\u001b[0m\u001b[0;34m:\u001b[0m\u001b[0;34m\u001b[0m\u001b[0;34m\u001b[0m\u001b[0m\n\u001b[0m\u001b[1;32m      3\u001b[0m     \u001b[0mprint\u001b[0m\u001b[0;34m(\u001b[0m\u001b[0msentence\u001b[0m\u001b[0;34m)\u001b[0m\u001b[0;34m\u001b[0m\u001b[0;34m\u001b[0m\u001b[0m\n",
            "\u001b[0;32m/usr/local/lib/python3.12/dist-packages/spacy/tokens/doc.pyx\u001b[0m in \u001b[0;36msents\u001b[0;34m()\u001b[0m\n",
            "\u001b[0;31mValueError\u001b[0m: [E030] Sentence boundaries unset. You can add the 'sentencizer' component to the pipeline with: `nlp.add_pipe('sentencizer')`. Alternatively, add the dependency parser or sentence recognizer, or set sentence boundaries by setting `doc[i].is_sent_start`."
          ]
        }
      ]
    },
    {
      "cell_type": "code",
      "source": [
        "nlp.pipeline\n"
      ],
      "metadata": {
        "colab": {
          "base_uri": "https://localhost:8080/"
        },
        "id": "KYIoAArH1Ydc",
        "outputId": "581d0468-c75a-4973-8fa7-813ba8490a4b"
      },
      "execution_count": 30,
      "outputs": [
        {
          "output_type": "execute_result",
          "data": {
            "text/plain": [
              "[]"
            ]
          },
          "metadata": {},
          "execution_count": 30
        }
      ]
    },
    {
      "cell_type": "code",
      "source": [
        "nlp.add_pipe('sentencizer')\n"
      ],
      "metadata": {
        "colab": {
          "base_uri": "https://localhost:8080/"
        },
        "id": "J6VB3kte1cA3",
        "outputId": "1426bcee-1bd6-4eb9-d7ff-dd4ed7562b94"
      },
      "execution_count": 31,
      "outputs": [
        {
          "output_type": "execute_result",
          "data": {
            "text/plain": [
              "<spacy.pipeline.sentencizer.Sentencizer at 0x7ac76f1d4390>"
            ]
          },
          "metadata": {},
          "execution_count": 31
        }
      ]
    },
    {
      "cell_type": "code",
      "source": [
        "doc = nlp(\"Dr. Strange loves pav bhaji of mumbai. Hulk loves chat of delhi\")\n",
        "for sentence in doc.sents:\n",
        "    print(sentence)\n"
      ],
      "metadata": {
        "colab": {
          "base_uri": "https://localhost:8080/"
        },
        "id": "Ej0hg8wP1eJ8",
        "outputId": "3bac1ac5-decc-43ed-e7c9-8b54e38ab02d"
      },
      "execution_count": 32,
      "outputs": [
        {
          "output_type": "stream",
          "name": "stdout",
          "text": [
            "Dr. Strange loves pav bhaji of mumbai.\n",
            "Hulk loves chat of delhi\n"
          ]
        }
      ]
    },
    {
      "cell_type": "code",
      "source": [
        "nlp.pipeline\n"
      ],
      "metadata": {
        "colab": {
          "base_uri": "https://localhost:8080/"
        },
        "id": "kywjCOKI1iur",
        "outputId": "80c1852d-dcb6-42d2-9e33-cdd6bfcc7014"
      },
      "execution_count": 33,
      "outputs": [
        {
          "output_type": "execute_result",
          "data": {
            "text/plain": [
              "[('sentencizer', <spacy.pipeline.sentencizer.Sentencizer at 0x7ac76f1d4390>)]"
            ]
          },
          "metadata": {},
          "execution_count": 33
        }
      ]
    },
    {
      "cell_type": "markdown",
      "source": [
        "Exercise\n",
        "\n",
        "(1) Think stats is a free book to study statistics (https://greenteapress.com/thinkstats2/thinkstats2.pdf)\n",
        "\n",
        "This book has references to many websites from where you can download free datasets. You are an NLP engineer working for some company and you want to collect all dataset websites from this book. To keep exercise simple you are given a paragraph from this book and you want to grab all urls from this paragraph using spacy"
      ],
      "metadata": {
        "id": "QVHv9Ynn15IG"
      }
    },
    {
      "cell_type": "code",
      "source": [
        "text='''\n",
        "Look for data to help you address the question. Governments are good\n",
        "sources because data from public research is often freely available. Good\n",
        "places to start include http://www.data.gov/, and http://www.science.\n",
        "gov/, and in the United Kingdom, http://data.gov.uk/.\n",
        "Two of my favorite data sets are the General Social Survey at http://www3.norc.org/gss+website/,\n",
        "and the European Social Survey at http://www.europeansocialsurvey.org/.\n",
        "'''\n",
        "\n",
        "# TODO: Write code here\n",
        "# Hint: token has an attribute that can be used to detect a url"
      ],
      "metadata": {
        "id": "MEeV_cPZ1ma0"
      },
      "execution_count": 34,
      "outputs": []
    },
    {
      "cell_type": "code",
      "source": [
        "import spacy\n",
        "\n",
        "# Load small English model\n",
        "nlp = spacy.load(\"en_core_web_sm\")\n",
        "\n",
        "text = '''\n",
        "Look for data to help you address the question. Governments are good\n",
        "sources because data from public research is often freely available. Good\n",
        "places to start include http://www.data.gov/, and http://www.science.\n",
        "gov/, and in the United Kingdom, http://data.gov.uk/.\n",
        "Two of my favorite data sets are the General Social Survey at http://www3.norc.org/gss+website/,\n",
        "and the European Social Survey at http://www.europeansocialsurvey.org/.\n",
        "'''\n",
        "\n",
        "# Process text with spaCy\n",
        "doc = nlp(text)\n",
        "\n",
        "# Extract all tokens that look like URLs\n",
        "urls = [token.text for token in doc if token.like_url]\n",
        "\n",
        "print(\"Extracted URLs:\")\n",
        "for url in urls:\n",
        "    print(url)\n"
      ],
      "metadata": {
        "colab": {
          "base_uri": "https://localhost:8080/"
        },
        "id": "b2z4hXbp6VNj",
        "outputId": "59846cb7-9cdd-46d4-caba-6ef09cf08ac9"
      },
      "execution_count": 35,
      "outputs": [
        {
          "output_type": "stream",
          "name": "stdout",
          "text": [
            "Extracted URLs:\n",
            "http://www.data.gov/\n",
            "http://www.science\n",
            "http://data.gov.uk/.\n",
            "http://www3.norc.org/gss+website/\n",
            "http://www.europeansocialsurvey.org/.\n"
          ]
        }
      ]
    },
    {
      "cell_type": "markdown",
      "source": [
        "(2) Extract all money transaction from below sentence along with currency. Output should be,\n",
        "\n",
        "two $\n",
        "\n",
        "500 €"
      ],
      "metadata": {
        "id": "6KJZZFGVD1Oy"
      }
    },
    {
      "cell_type": "code",
      "source": [
        "transactions = \"Tony gave two $ to Peter, Bruce gave 500 € to Steve\"\n",
        "\n",
        "# TODO: Write code here\n",
        "# Hint: Use token.i for the index of a token and token.is_currency for currency symbol detection"
      ],
      "metadata": {
        "id": "kYF_hRDbDvYS"
      },
      "execution_count": 36,
      "outputs": []
    },
    {
      "cell_type": "code",
      "source": [
        "import spacy\n",
        "\n",
        "nlp = spacy.load(\"en_core_web_sm\")\n",
        "\n",
        "transactions = \"Tony gave two $ to Peter, Bruce gave 500 € to Steve\"\n",
        "doc = nlp(transactions)\n",
        "\n",
        "results = []\n",
        "\n",
        "for token in doc:\n",
        "    if token.is_currency:   # Detect currency symbol\n",
        "        # Get the previous token (number/word)\n",
        "        prev_token = doc[token.i - 1] if token.i > 0 else None\n",
        "        if prev_token:\n",
        "            results.append(prev_token.text + \" \" + token.text)\n",
        "\n",
        "print(\"Extracted Transactions:\")\n",
        "for r in results:\n",
        "    print(r)\n"
      ],
      "metadata": {
        "colab": {
          "base_uri": "https://localhost:8080/"
        },
        "id": "Zw8THyv6D5GR",
        "outputId": "460e3c4a-bd57-4ee6-b326-9dc54b17e3d8"
      },
      "execution_count": 37,
      "outputs": [
        {
          "output_type": "stream",
          "name": "stdout",
          "text": [
            "Extracted Transactions:\n",
            "two $\n",
            "500 €\n"
          ]
        }
      ]
    },
    {
      "cell_type": "code",
      "source": [
        "transactions = \"Tony gave two $ to Peter, Bruce gave 500 € to Steve\"\n",
        "doc = nlp(transactions)\n",
        "for token in doc:\n",
        "    if token.like_num and doc[token.i+1].is_currency:\n",
        "        print(token.text, doc[token.i+1].text)"
      ],
      "metadata": {
        "id": "70so-3E0EMF9",
        "outputId": "4188df84-882e-4378-f8e2-46a49096f96a",
        "colab": {
          "base_uri": "https://localhost:8080/"
        }
      },
      "execution_count": 38,
      "outputs": [
        {
          "output_type": "stream",
          "name": "stdout",
          "text": [
            "two $\n",
            "500 €\n"
          ]
        }
      ]
    }
  ]
}
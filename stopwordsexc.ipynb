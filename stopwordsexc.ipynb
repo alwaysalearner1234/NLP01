{
  "nbformat": 4,
  "nbformat_minor": 0,
  "metadata": {
    "colab": {
      "provenance": [],
      "authorship_tag": "ABX9TyOvTMjVita9M50jdoNgpCdt",
      "include_colab_link": true
    },
    "kernelspec": {
      "name": "python3",
      "display_name": "Python 3"
    },
    "language_info": {
      "name": "python"
    }
  },
  "cells": [
    {
      "cell_type": "markdown",
      "metadata": {
        "id": "view-in-github",
        "colab_type": "text"
      },
      "source": [
        "<a href=\"https://colab.research.google.com/github/alwaysalearner1234/NLP01/blob/main/stopwordsexc.ipynb\" target=\"_parent\"><img src=\"https://colab.research.google.com/assets/colab-badge.svg\" alt=\"Open In Colab\"/></a>"
      ]
    },
    {
      "cell_type": "code",
      "execution_count": 1,
      "metadata": {
        "id": "l6Qel-v94LpX"
      },
      "outputs": [],
      "source": [
        "#import spacy and load the model\n",
        "\n",
        "import spacy\n",
        "nlp = spacy.load(\"en_core_web_sm\")"
      ]
    },
    {
      "cell_type": "code",
      "source": [
        "text = '''\n",
        "Thor: Love and Thunder is a 2022 American superhero film based on Marvel Comics featuring the character Thor, produced by Marvel Studios and\n",
        "distributed by Walt Disney Studios Motion Pictures. It is the sequel to Thor: Ragnarok (2017) and the 29th film in the Marvel Cinematic Universe (MCU).\n",
        "The film is directed by Taika Waititi, who co-wrote the script with Jennifer Kaytin Robinson, and stars Chris Hemsworth as Thor alongside Christian Bale, Tessa Thompson,\n",
        "Jaimie Alexander, Waititi, Russell Crowe, and Natalie Portman. In the film, Thor attempts to find inner peace, but must return to action and recruit Valkyrie (Thompson),\n",
        "Korg (Waititi), and Jane Foster (Portman)—who is now the Mighty Thor—to stop Gorr the God Butcher (Bale) from eliminating all gods.\n",
        "'''\n",
        "\n",
        "#step1: Create the object 'doc' for the given text using nlp()\n",
        "\n",
        "\n",
        "\n",
        "#step2: define the variables to keep track of stopwords count and total words count\n",
        "\n",
        "\n",
        "\n",
        "#step3: iterate through all the words in the document\n",
        "\n",
        "\n",
        "\n",
        "#step4: print the count of stop words\n",
        "\n",
        "\n",
        "\n",
        "#step5: print the percentage of stop words compared to total words in the text"
      ],
      "metadata": {
        "id": "tLMW1iLT4T3k"
      },
      "execution_count": 2,
      "outputs": []
    },
    {
      "cell_type": "markdown",
      "source": [
        "Exercise1:\n",
        "\n",
        "From a Given Text, Count the number of stop words in it.\n",
        "Print the percentage of stop word tokens compared to all tokens in a given text.\n"
      ],
      "metadata": {
        "id": "Bcmdi3LGrmH8"
      }
    },
    {
      "cell_type": "code",
      "source": [
        "import spacy\n",
        "\n",
        "# Load the English model\n",
        "nlp = spacy.load(\"en_core_web_sm\")\n",
        "\n",
        "text = '''\n",
        "Thor: Love and Thunder is a 2022 American superhero film based on Marvel Comics featuring the character Thor, produced by Marvel Studios and\n",
        "distributed by Walt Disney Studios Motion Pictures. It is the sequel to Thor: Ragnarok (2017) and the 29th film in the Marvel Cinematic Universe (MCU).\n",
        "The film is directed by Taika Waititi, who co-wrote the script with Jennifer Kaytin Robinson, and stars Chris Hemsworth as Thor alongside Christian Bale, Tessa Thompson,\n",
        "Jaimie Alexander, Waititi, Russell Crowe, and Natalie Portman. In the film, Thor attempts to find inner peace, but must return to action and recruit Valkyrie (Thompson),\n",
        "Korg (Waititi), and Jane Foster (Portman)—who is now the Mighty Thor—to stop Gorr the God Butcher (Bale) from eliminating all gods.\n",
        "'''\n",
        "\n",
        "# step1: Create the object 'doc' for the given text using nlp()\n",
        "doc = nlp(text)\n",
        "\n",
        "# step2: define the variables to keep track of stopwords count and total words count\n",
        "stop_words_count = 0\n",
        "total_tokens = 0\n",
        "\n",
        "# step3: iterate through all the words in the document\n",
        "for token in doc:\n",
        "    if not token.is_punct and not token.is_space:  # ignore punctuations and spaces\n",
        "        total_tokens += 1\n",
        "        if token.is_stop:\n",
        "            stop_words_count += 1\n",
        "\n",
        "# step4: print the count of stop words\n",
        "print(\"Stop Words Count:\", stop_words_count)\n",
        "\n",
        "# step5: print the percentage of stop words compared to total words in the text\n",
        "percentage = (stop_words_count / total_tokens) * 100 if total_tokens > 0 else 0\n",
        "print(\"Total Tokens (excluding punctuations/spaces):\", total_tokens)\n",
        "print(f\"Percentage of Stop Words: {percentage:.2f}%\")\n"
      ],
      "metadata": {
        "colab": {
          "base_uri": "https://localhost:8080/"
        },
        "id": "uf-KnP3drnp7",
        "outputId": "c385ad75-87a6-4180-d689-ba7d5bb587fc"
      },
      "execution_count": 1,
      "outputs": [
        {
          "output_type": "stream",
          "name": "stdout",
          "text": [
            "Stop Words Count: 40\n",
            "Total Tokens (excluding punctuations/spaces): 123\n",
            "Percentage of Stop Words: 32.52%\n"
          ]
        }
      ]
    },
    {
      "cell_type": "markdown",
      "source": [
        "Exercise2:\n",
        "\n",
        "Spacy default implementation considers \"not\" as a stop word. But in some scenarios removing 'not' will completely change the meaning of the statement/text. For Example, consider these two statements:\n",
        "\n",
        "- this is a good movie       ----> Positive Statement\n",
        "- this is not a good movie   ----> Negative Statement\n",
        "So, after applying stopwords to those 2 texts, both will return \"good movie\" and does not respect the polarity/sentiments of text.\n",
        "\n",
        "Now, your task is to remove this stop word \"not\" in spaCy and help in distinguishing the texts.\n",
        "\n",
        "Hint: GOOGLE IT! Google is your friend."
      ],
      "metadata": {
        "id": "RHo1NcqqubLm"
      }
    },
    {
      "cell_type": "code",
      "source": [
        "#use this pre-processing function to pass the text and to remove all the stop words and finally get the cleaned form\n",
        "def preprocess(text):\n",
        "    doc = nlp(text)\n",
        "    no_stop_words = [token.text for token in doc if not token.is_stop]\n",
        "    return \" \".join(no_stop_words)\n",
        "\n",
        "\n",
        "#Step1: remove the stopword 'not' in spacy\n",
        "\n",
        "\n",
        "\n",
        "#step2: send the two texts given above into the pre-process function and store the transformed texts\n",
        "\n",
        "\n",
        "\n",
        "#step3: finally print those 2 transformed texts"
      ],
      "metadata": {
        "id": "HfavUooOub3V"
      },
      "execution_count": 2,
      "outputs": []
    },
    {
      "cell_type": "code",
      "source": [
        "import spacy\n",
        "\n",
        "# Load spaCy model\n",
        "nlp = spacy.load(\"en_core_web_sm\")\n",
        "\n",
        "# Step 1: Remove \"not\" from spaCy's stop words\n",
        "nlp.vocab[\"not\"].is_stop = False\n",
        "\n",
        "# Preprocess function (remove stop words except \"not\")\n",
        "def preprocess(text):\n",
        "    doc = nlp(text)\n",
        "    no_stop_words = [token.text for token in doc if not token.is_stop]\n",
        "    return \" \".join(no_stop_words)\n",
        "\n",
        "# Example texts\n",
        "text1 =  '''\n",
        "Thor: Love and Thunder is a 2022 American superhero film based on Marvel Comics featuring the character Thor, produced by Marvel Studios and\n",
        "distributed by Walt Disney Studios Motion Pictures. It is the sequel to Thor: Ragnarok (2017) and the 29th film in the Marvel Cinematic Universe (MCU).\n",
        "The film is directed by Taika Waititi, who co-wrote the script with Jennifer Kaytin Robinson, and stars Chris Hemsworth as Thor alongside Christian Bale, Tessa Thompson,\n",
        "Jaimie Alexander, Waititi, Russell Crowe, and Natalie Portman. In the film, Thor attempts to find inner peace, but must return to action and recruit Valkyrie (Thompson),\n",
        "Korg (Waititi), and Jane Foster (Portman)—who is now the Mighty Thor—to stop Gorr the God Butcher (Bale) from eliminating all gods.\n",
        "'''\n",
        "\n",
        "# Step 2: Apply preprocessing\n",
        "cleaned_text1 = preprocess(text1)\n",
        "\n",
        "# Step 3: Print results\n",
        "print(\"Original:\", text1)\n",
        "print(\"Cleaned :\", cleaned_text1)\n",
        "print()\n",
        "\n"
      ],
      "metadata": {
        "colab": {
          "base_uri": "https://localhost:8080/"
        },
        "id": "q8exiVMk4ZRI",
        "outputId": "6a259d4d-587d-43ca-c1d6-0b6f065ed1df"
      },
      "execution_count": 4,
      "outputs": [
        {
          "output_type": "stream",
          "name": "stdout",
          "text": [
            "Original: \n",
            "Thor: Love and Thunder is a 2022 American superhero film based on Marvel Comics featuring the character Thor, produced by Marvel Studios and \n",
            "distributed by Walt Disney Studios Motion Pictures. It is the sequel to Thor: Ragnarok (2017) and the 29th film in the Marvel Cinematic Universe (MCU).\n",
            "The film is directed by Taika Waititi, who co-wrote the script with Jennifer Kaytin Robinson, and stars Chris Hemsworth as Thor alongside Christian Bale, Tessa Thompson,\n",
            "Jaimie Alexander, Waititi, Russell Crowe, and Natalie Portman. In the film, Thor attempts to find inner peace, but must return to action and recruit Valkyrie (Thompson),\n",
            "Korg (Waititi), and Jane Foster (Portman)—who is now the Mighty Thor—to stop Gorr the God Butcher (Bale) from eliminating all gods.\n",
            "\n",
            "Cleaned : \n",
            " Thor : Love Thunder 2022 American superhero film based Marvel Comics featuring character Thor , produced Marvel Studios \n",
            " distributed Walt Disney Studios Motion Pictures . sequel Thor : Ragnarok ( 2017 ) 29th film Marvel Cinematic Universe ( MCU ) . \n",
            " film directed Taika Waititi , co - wrote script Jennifer Kaytin Robinson , stars Chris Hemsworth Thor alongside Christian Bale , Tessa Thompson , \n",
            " Jaimie Alexander , Waititi , Russell Crowe , Natalie Portman . film , Thor attempts find inner peace , return action recruit Valkyrie ( Thompson ) , \n",
            " Korg ( Waititi ) , Jane Foster ( Portman)—who Mighty Thor — stop Gorr God Butcher ( Bale ) eliminating gods . \n",
            "\n",
            "\n"
          ]
        }
      ]
    },
    {
      "cell_type": "markdown",
      "source": [
        "Exercise3:\n",
        "\n",
        "From a given text, output the most frequently used token after removing all the stop word tokens and punctuations in it.\n",
        "text = ''' The India men's national cricket team, also known as Team India or the Men in Blue, represents India in men's international cricket.\n",
        "It is governed by the Board of Control for Cricket in India (BCCI), and is a Full Member of the International Cricket Council (ICC) with Test,\n",
        "One Day International (ODI) and Twenty20 International (T20I) status. Cricket was introduced to India by British sailors in the 18th century, and the\n",
        "first cricket club was established in 1792. India's national cricket team played its first Test match on 25 June 1932 at Lord's, becoming the sixth team to be\n",
        "granted test cricket status.\n",
        "'''\n",
        "\n",
        "\n"
      ],
      "metadata": {
        "id": "MZ9rTTWkyCxp"
      }
    },
    {
      "cell_type": "markdown",
      "source": [
        "#step1: Create the object 'doc' for the given text using nlp()\n",
        "\n",
        "\n",
        "\n",
        "#step2: remove all the stop words and punctuations and store all the remaining tokens in a new list\n",
        "\n",
        "\n",
        "\n",
        "#step3: create a new dictionary and get the frequency of words by iterating through the list which contains stored tokens  \n",
        "\n",
        "\n",
        "\n",
        "#step4: get the maximum frequency word\n",
        "\n",
        "\n",
        "\n",
        "#step5: finally print the result"
      ],
      "metadata": {
        "id": "U-89czWsyGDY"
      }
    },
    {
      "cell_type": "code",
      "source": [
        "import spacy\n",
        "from collections import Counter\n",
        "\n",
        "# Load the spaCy model\n",
        "nlp = spacy.load(\"en_core_web_sm\")\n",
        "\n",
        "text = ''' The India men's national cricket team, also known as Team India or the Men in Blue, represents India in men's international cricket.\n",
        "It is governed by the Board of Control for Cricket in India (BCCI), and is a Full Member of the International Cricket Council (ICC) with Test,\n",
        "One Day International (ODI) and Twenty20 International (T20I) status. Cricket was introduced to India by British sailors in the 18th century, and the\n",
        "first cricket club was established in 1792. India's national cricket team played its first Test match on 25 June 1932 at Lord's, becoming the sixth team to be\n",
        "granted test cricket status.\n",
        "'''\n",
        "\n",
        "# Process text\n",
        "doc = nlp(text)\n",
        "\n",
        "# Filter tokens (remove stop words & punctuations)\n",
        "tokens = [token.text.lower() for token in doc if not token.is_stop and not token.is_punct]\n",
        "\n",
        "# Count frequencies\n",
        "freq = Counter(tokens)\n",
        "\n",
        "# Get the most common token\n",
        "most_common_token, count = freq.most_common(1)[0]\n",
        "\n",
        "print(\"Most Frequent Token:\", most_common_token)\n",
        "print(\"Frequency:\", count)\n"
      ],
      "metadata": {
        "colab": {
          "base_uri": "https://localhost:8080/"
        },
        "id": "EgV9im1sxEwR",
        "outputId": "6ea7300f-4e28-483c-ddce-a4b785ce7790"
      },
      "execution_count": 5,
      "outputs": [
        {
          "output_type": "stream",
          "name": "stdout",
          "text": [
            "Most Frequent Token: cricket\n",
            "Frequency: 8\n"
          ]
        }
      ]
    },
    {
      "cell_type": "code",
      "source": [],
      "metadata": {
        "id": "JjeZAF-b4j07"
      },
      "execution_count": 4,
      "outputs": []
    },
    {
      "cell_type": "code",
      "source": [],
      "metadata": {
        "id": "Q7IMRvS55IXX"
      },
      "execution_count": 6,
      "outputs": []
    },
    {
      "cell_type": "code",
      "source": [],
      "metadata": {
        "id": "-Anq7Wa8812i"
      },
      "execution_count": null,
      "outputs": []
    }
  ]
}